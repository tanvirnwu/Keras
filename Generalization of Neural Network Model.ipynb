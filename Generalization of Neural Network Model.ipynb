{
 "cells": [
  {
   "cell_type": "code",
   "execution_count": 1,
   "id": "dcbeb778",
   "metadata": {},
   "outputs": [],
   "source": [
    "from keras.datasets import imdb\n",
    "from keras import models\n",
    "from keras import layers\n",
    "import matplotlib.pyplot as plt\n",
    "import numpy as np\n",
    "from keras import regularizers"
   ]
  },
  {
   "cell_type": "code",
   "execution_count": 2,
   "id": "ce7dfdde",
   "metadata": {},
   "outputs": [],
   "source": [
    "(train_data, train_labels), (test_data, test_labels) = imdb.load_data(num_words=10000)"
   ]
  },
  {
   "cell_type": "code",
   "execution_count": 3,
   "id": "aef5d93e",
   "metadata": {},
   "outputs": [
    {
     "data": {
      "text/plain": [
       "((25000,), (25000,), (25000,), (25000,))"
      ]
     },
     "execution_count": 3,
     "metadata": {},
     "output_type": "execute_result"
    }
   ],
   "source": [
    "train_data.shape, train_labels.shape, test_data.shape, test_labels.shape"
   ]
  },
  {
   "cell_type": "markdown",
   "id": "f7309628",
   "metadata": {},
   "source": [
    "### One-hot Encoding"
   ]
  },
  {
   "cell_type": "code",
   "execution_count": 4,
   "id": "681a74a4",
   "metadata": {},
   "outputs": [],
   "source": [
    "def vectorize_sequences (sequences, dimension = 10000):\n",
    "    results = np.zeros((len(sequences), dimension))\n",
    "    for i, sequence in enumerate(sequences):\n",
    "        results[i, sequence] =1\n",
    "    return results"
   ]
  },
  {
   "cell_type": "code",
   "execution_count": 5,
   "id": "b51029b7",
   "metadata": {},
   "outputs": [],
   "source": [
    "# Vectorizing the training & testing data\n",
    "x_train = vectorize_sequences(train_data)\n",
    "x_test = vectorize_sequences(test_data)"
   ]
  },
  {
   "cell_type": "code",
   "execution_count": 6,
   "id": "3bdacf94",
   "metadata": {},
   "outputs": [],
   "source": [
    "# Vectorizing the labels also\n",
    "y_train = np.asarray(train_labels).astype('float32')\n",
    "y_test = np.asarray(test_labels).astype('float32')"
   ]
  },
  {
   "cell_type": "code",
   "execution_count": 7,
   "id": "3288c159",
   "metadata": {},
   "outputs": [
    {
     "data": {
      "text/plain": [
       "(25000, 10000)"
      ]
     },
     "execution_count": 7,
     "metadata": {},
     "output_type": "execute_result"
    }
   ],
   "source": [
    "x_train.shape"
   ]
  },
  {
   "cell_type": "markdown",
   "id": "fce3a14b",
   "metadata": {},
   "source": [
    "### Version of model with lower capacity"
   ]
  },
  {
   "cell_type": "code",
   "execution_count": 8,
   "id": "9f5ff39c",
   "metadata": {},
   "outputs": [],
   "source": [
    "model = models.Sequential()\n",
    "model.add(layers.Dense(16, kernel_regularizer = regularizers.l2(0.001), activation = 'relu', input_shape = (10000,)))\n",
    "model.add(layers.Dense(16, activation = 'relu'))\n",
    "model.add(layers.Dense(1, activation = 'sigmoid'))"
   ]
  },
  {
   "cell_type": "markdown",
   "id": "b1a066f0",
   "metadata": {},
   "source": [
    "#### Regularization in Keras\n",
    "- regularizers.l1(0.001)\n",
    "- regularizers.l2(0.001)\n",
    "- regularizers.l1_l2(l1=0.001, l2=0.001) #Simultaneous L1 & L2 Regularizations"
   ]
  },
  {
   "cell_type": "markdown",
   "id": "8b1e2454",
   "metadata": {},
   "source": [
    "## Adding Dorpout\n",
    "Dropout is a regularization technique commonly used in neural networks to prevent overfitting. It involves randomly dropping out (setting to zero) a proportion of the neurons in a layer during training. This forces the network to learn more robust representations by preventing the neurons from relying too much on each other.\n",
    "\n",
    "During the forward pass of training, dropout randomly sets a fraction of the input units to zero at each update. The fraction, often referred to as the dropout rate, is typically set between 0.2 and 0.5. This means that for each training example, a different subset of neurons will be \"dropped out\" or deactivated.\n",
    "\n",
    "The main idea behind dropout is that by randomly dropping out neurons, the network becomes less sensitive to the precise weights of individual connections. This reduces the likelihood of overfitting because the network cannot rely too heavily on any particular feature or combination of features. Instead, it forces the network to learn more robust features that are useful in conjunction with different subsets of neurons.\n",
    "\n",
    "During inference or testing, dropout is usually turned off, and the full network is used. However, the weights of the network are typically scaled by the dropout rate to ensure that the expected output of each neuron remains the same as during training.\n",
    "\n",
    "Dropout has been shown to be an effective regularization technique in neural networks, helping to improve generalization and reduce overfitting. It is particularly useful when dealing with large, complex networks or datasets with limited training examples. By preventing co-adaptation of neurons, dropout encourages the network to learn more generalizable representations, leading to better performance on unseen data."
   ]
  },
  {
   "cell_type": "code",
   "execution_count": 9,
   "id": "829db90a",
   "metadata": {},
   "outputs": [
    {
     "data": {
      "text/plain": [
       "array([ 2,  4,  6,  8, 10])"
      ]
     },
     "execution_count": 9,
     "metadata": {},
     "output_type": "execute_result"
    }
   ],
   "source": [
    "lo = [1, 2, 3, 4, 5]\n",
    "lo_arr = np.array(lo)  # Convert list to NumPy array\n",
    "lo_arr *= np.random.randint(0, high=3, size=lo_arr.shape)  # Perform element-wise multiplication\n",
    "lo_arr"
   ]
  },
  {
   "cell_type": "markdown",
   "id": "cebc67c5",
   "metadata": {},
   "source": [
    "### Verion of model with Dropout"
   ]
  },
  {
   "cell_type": "code",
   "execution_count": 10,
   "id": "84be0cf9",
   "metadata": {},
   "outputs": [],
   "source": [
    "model1 = models.Sequential()\n",
    "model1.add(layers.Dense(16, kernel_regularizer = regularizers.l2(0.001), activation = 'relu', input_shape = (10000,)))\n",
    "model1.add(layers.Dense(16, activation = 'relu'))\n",
    "model1.add(layers.Dropout(0.5))\n",
    "model1.add(layers.Dense(1, activation = 'sigmoid'))"
   ]
  },
  {
   "cell_type": "markdown",
   "id": "2dec4afa",
   "metadata": {},
   "source": [
    "#### Common Ways of Reducing Overfitting of a NN Model\n",
    "- Get more training data\n",
    "- Reduce the capacity of the network\n",
    "- Add weight regularization\n",
    "- Add dropout"
   ]
  },
  {
   "cell_type": "code",
   "execution_count": 11,
   "id": "34b8c669",
   "metadata": {},
   "outputs": [],
   "source": [
    "model1.compile(optimizer ='rmsprop', loss='binary_crossentropy', metrics = ['accuracy'])"
   ]
  },
  {
   "cell_type": "code",
   "execution_count": 12,
   "id": "82f66ed1",
   "metadata": {},
   "outputs": [],
   "source": [
    "x_val = x_train[:10000]\n",
    "partial_x_train = x_train[10000:]\n",
    "\n",
    "y_val = y_train[:10000]\n",
    "partial_y_train= y_train[10000:]"
   ]
  },
  {
   "cell_type": "code",
   "execution_count": 13,
   "id": "6d9bcf6b",
   "metadata": {},
   "outputs": [
    {
     "name": "stdout",
     "output_type": "stream",
     "text": [
      "Epoch 1/20\n",
      "30/30 [==============================] - 3s 52ms/step - loss: 0.6385 - accuracy: 0.6911 - val_loss: 0.5273 - val_accuracy: 0.8551\n",
      "Epoch 2/20\n",
      "30/30 [==============================] - 1s 26ms/step - loss: 0.4777 - accuracy: 0.8299 - val_loss: 0.4075 - val_accuracy: 0.8763\n",
      "Epoch 3/20\n",
      "30/30 [==============================] - 1s 23ms/step - loss: 0.3872 - accuracy: 0.8749 - val_loss: 0.3524 - val_accuracy: 0.8849\n",
      "Epoch 4/20\n",
      "30/30 [==============================] - 1s 25ms/step - loss: 0.3320 - accuracy: 0.8967 - val_loss: 0.3254 - val_accuracy: 0.8878\n",
      "Epoch 5/20\n",
      "30/30 [==============================] - 1s 26ms/step - loss: 0.2922 - accuracy: 0.9108 - val_loss: 0.3189 - val_accuracy: 0.8875\n",
      "Epoch 6/20\n",
      "30/30 [==============================] - 1s 23ms/step - loss: 0.2688 - accuracy: 0.9218 - val_loss: 0.3463 - val_accuracy: 0.8724\n",
      "Epoch 7/20\n",
      "30/30 [==============================] - 1s 26ms/step - loss: 0.2453 - accuracy: 0.9305 - val_loss: 0.3367 - val_accuracy: 0.8775\n",
      "Epoch 8/20\n",
      "30/30 [==============================] - 1s 24ms/step - loss: 0.2322 - accuracy: 0.9381 - val_loss: 0.3450 - val_accuracy: 0.8791\n",
      "Epoch 9/20\n",
      "30/30 [==============================] - 1s 26ms/step - loss: 0.2160 - accuracy: 0.9439 - val_loss: 0.3626 - val_accuracy: 0.8774\n",
      "Epoch 10/20\n",
      "30/30 [==============================] - 1s 24ms/step - loss: 0.2090 - accuracy: 0.9475 - val_loss: 0.3434 - val_accuracy: 0.8831\n",
      "Epoch 11/20\n",
      "30/30 [==============================] - 1s 24ms/step - loss: 0.1968 - accuracy: 0.9528 - val_loss: 0.3570 - val_accuracy: 0.8801\n",
      "Epoch 12/20\n",
      "30/30 [==============================] - 1s 24ms/step - loss: 0.1886 - accuracy: 0.9559 - val_loss: 0.3658 - val_accuracy: 0.8797\n",
      "Epoch 13/20\n",
      "30/30 [==============================] - 1s 26ms/step - loss: 0.1827 - accuracy: 0.9574 - val_loss: 0.3714 - val_accuracy: 0.8795\n",
      "Epoch 14/20\n",
      "30/30 [==============================] - 1s 25ms/step - loss: 0.1718 - accuracy: 0.9616 - val_loss: 0.3884 - val_accuracy: 0.8773\n",
      "Epoch 15/20\n",
      "30/30 [==============================] - 1s 24ms/step - loss: 0.1700 - accuracy: 0.9623 - val_loss: 0.4331 - val_accuracy: 0.8721\n",
      "Epoch 16/20\n",
      "30/30 [==============================] - 1s 23ms/step - loss: 0.1602 - accuracy: 0.9658 - val_loss: 0.4124 - val_accuracy: 0.8703\n",
      "Epoch 17/20\n",
      "30/30 [==============================] - 1s 24ms/step - loss: 0.1574 - accuracy: 0.9676 - val_loss: 0.4968 - val_accuracy: 0.8469\n",
      "Epoch 18/20\n",
      "30/30 [==============================] - 1s 27ms/step - loss: 0.1554 - accuracy: 0.9671 - val_loss: 0.4702 - val_accuracy: 0.8675\n",
      "Epoch 19/20\n",
      "30/30 [==============================] - 1s 23ms/step - loss: 0.1492 - accuracy: 0.9688 - val_loss: 0.4287 - val_accuracy: 0.8706\n",
      "Epoch 20/20\n",
      "30/30 [==============================] - 1s 24ms/step - loss: 0.1421 - accuracy: 0.9732 - val_loss: 0.4459 - val_accuracy: 0.8758\n"
     ]
    }
   ],
   "source": [
    "history = model1.fit(partial_x_train, partial_y_train, epochs=20, batch_size=512, validation_data=(x_val, y_val))"
   ]
  },
  {
   "cell_type": "code",
   "execution_count": 14,
   "id": "cf36ad26",
   "metadata": {},
   "outputs": [],
   "source": [
    "history_dict = history.history"
   ]
  },
  {
   "cell_type": "code",
   "execution_count": 15,
   "id": "26858e4a",
   "metadata": {},
   "outputs": [
    {
     "data": {
      "text/plain": [
       "dict_keys(['loss', 'accuracy', 'val_loss', 'val_accuracy'])"
      ]
     },
     "execution_count": 15,
     "metadata": {},
     "output_type": "execute_result"
    }
   ],
   "source": [
    "history_dict.keys()"
   ]
  },
  {
   "cell_type": "code",
   "execution_count": 16,
   "id": "f7812691",
   "metadata": {},
   "outputs": [],
   "source": [
    "loss_values = history_dict['loss']\n",
    "val_loss_values = history_dict['val_loss']\n",
    "acc = history_dict['val_accuracy']\n",
    "epochs = range(1, len(acc)+1)"
   ]
  },
  {
   "cell_type": "code",
   "execution_count": 17,
   "id": "f386a961",
   "metadata": {},
   "outputs": [
    {
     "data": {
      "text/plain": [
       "<matplotlib.legend.Legend at 0x218e4644ac0>"
      ]
     },
     "execution_count": 17,
     "metadata": {},
     "output_type": "execute_result"
    },
    {
     "data": {
      "image/png": "[encoded data removed]",
      "text/plain": [
       "<Figure size 640x480 with 1 Axes>"
      ]
     },
     "metadata": {},
     "output_type": "display_data"
    }
   ],
   "source": [
    "plt.plot(epochs, loss_values, 'bo', label='Training loss')\n",
    "plt.plot(epochs, val_loss_values, 'b', label= 'Validation loss')\n",
    "plt.title('Training and Validation loss')\n",
    "plt.xlabel('Epochs')\n",
    "plt.ylabel('Loss')\n",
    "plt.legend()"
   ]
  },
  {
   "cell_type": "code",
   "execution_count": 18,
   "id": "598d8dab",
   "metadata": {},
   "outputs": [],
   "source": [
    "train_acc_values=history_dict['accuracy']\n",
    "val_acc_values = history_dict['val_accuracy']"
   ]
  },
  {
   "cell_type": "code",
   "execution_count": 19,
   "id": "1a5580fb",
   "metadata": {
    "scrolled": true
   },
   "outputs": [
    {
     "data": {
      "text/plain": [
       "<matplotlib.legend.Legend at 0x218e04cbe50>"
      ]
     },
     "execution_count": 19,
     "metadata": {},
     "output_type": "execute_result"
    },
    {
     "data": {
      "image/png": "[encoded data removed]",
      "text/plain": [
       "<Figure size 640x480 with 1 Axes>"
      ]
     },
     "metadata": {},
     "output_type": "display_data"
    }
   ],
   "source": [
    "plt.plot(epochs, train_acc_values, 'bo', label='Training Accuracy')\n",
    "plt.plot(epochs, val_acc_values, 'b', label= 'Validation Accuracy')\n",
    "plt.title('Training and Validation Accuracy')\n",
    "plt.xlabel('Epochs')\n",
    "plt.ylabel('Accuracy')\n",
    "plbt.legend()b"
   ]
  },
  {
   "cell_type": "code",
   "execution_count": 20,
   "id": "4d07b591",
   "metadata": {
    "scrolled": true
   },
   "outputs": [
    {
     "name": "stdout",
     "output_type": "stream",
     "text": [
      "782/782 [==============================] - 3s 3ms/step - loss: 0.4725 - accuracy: 0.8639\n"
     ]
    },
    {
     "data": {
      "text/plain": [
       "[0.4725399315357208, 0.8639199733734131]"
      ]
     },
     "execution_count": 20,
     "metadata": {},
     "output_type": "execute_result"
    }
   ],
   "source": [
    "results= model1.evaluate(x_test, y_test)\n",
    "results"
   ]
  },
  {
   "cell_type": "markdown",
   "id": "e660b816",
   "metadata": {},
   "source": [
    "### Model 2"
   ]
  },
  {
   "cell_type": "code",
   "execution_count": 21,
   "id": "c08c7e66",
   "metadata": {},
   "outputs": [],
   "source": [
    "model2 = models.Sequential()\n",
    "model2.add(layers.Dense(16, kernel_regularizer = regularizers.l1(0.001), activation = 'relu', input_shape = (10000,)))\n",
    "model2.add(layers.Dense(16, activation = 'relu'))\n",
    "model2.add(layers.Dropout(0.5))\n",
    "model2.add(layers.Dense(1, activation = 'sigmoid'))\n",
    "model2.compile(optimizer ='rmsprop', loss='binary_crossentropy', metrics = ['accuracy'])"
   ]
  },
  {
   "cell_type": "code",
   "execution_count": 22,
   "id": "76f26080",
   "metadata": {},
   "outputs": [
    {
     "name": "stdout",
     "output_type": "stream",
     "text": [
      "Epoch 1/20\n",
      "30/30 [==============================] - 3s 54ms/step - loss: 1.1207 - accuracy: 0.6905 - val_loss: 0.6921 - val_accuracy: 0.8133\n",
      "Epoch 2/20\n",
      "30/30 [==============================] - 1s 25ms/step - loss: 0.6581 - accuracy: 0.7920 - val_loss: 0.6072 - val_accuracy: 0.8510\n",
      "Epoch 3/20\n",
      "30/30 [==============================] - 1s 26ms/step - loss: 0.6092 - accuracy: 0.8159 - val_loss: 0.5699 - val_accuracy: 0.8542\n",
      "Epoch 4/20\n",
      "30/30 [==============================] - 1s 26ms/step - loss: 0.5796 - accuracy: 0.8299 - val_loss: 0.5701 - val_accuracy: 0.8374\n",
      "Epoch 5/20\n",
      "30/30 [==============================] - 1s 27ms/step - loss: 0.5614 - accuracy: 0.8409 - val_loss: 0.5305 - val_accuracy: 0.8618\n",
      "Epoch 6/20\n",
      "30/30 [==============================] - 1s 26ms/step - loss: 0.5475 - accuracy: 0.8480 - val_loss: 0.5232 - val_accuracy: 0.8593\n",
      "Epoch 7/20\n",
      "30/30 [==============================] - 1s 23ms/step - loss: 0.5362 - accuracy: 0.8534 - val_loss: 0.5065 - val_accuracy: 0.8678\n",
      "Epoch 8/20\n",
      "30/30 [==============================] - 1s 23ms/step - loss: 0.5261 - accuracy: 0.8580 - val_loss: 0.5056 - val_accuracy: 0.8716\n",
      "Epoch 9/20\n",
      "30/30 [==============================] - 1s 24ms/step - loss: 0.5244 - accuracy: 0.8558 - val_loss: 0.4970 - val_accuracy: 0.8751\n",
      "Epoch 10/20\n",
      "30/30 [==============================] - 1s 23ms/step - loss: 0.5123 - accuracy: 0.8645 - val_loss: 0.4898 - val_accuracy: 0.8711\n",
      "Epoch 11/20\n",
      "30/30 [==============================] - 1s 24ms/step - loss: 0.5071 - accuracy: 0.8695 - val_loss: 0.4949 - val_accuracy: 0.8698\n",
      "Epoch 12/20\n",
      "30/30 [==============================] - 1s 24ms/step - loss: 0.5035 - accuracy: 0.8704 - val_loss: 0.4959 - val_accuracy: 0.8688\n",
      "Epoch 13/20\n",
      "30/30 [==============================] - 1s 26ms/step - loss: 0.4980 - accuracy: 0.8713 - val_loss: 0.4821 - val_accuracy: 0.8751\n",
      "Epoch 14/20\n",
      "30/30 [==============================] - 1s 24ms/step - loss: 0.4913 - accuracy: 0.8763 - val_loss: 0.5331 - val_accuracy: 0.8410\n",
      "Epoch 15/20\n",
      "30/30 [==============================] - 1s 22ms/step - loss: 0.4835 - accuracy: 0.8811 - val_loss: 0.4760 - val_accuracy: 0.8773\n",
      "Epoch 16/20\n",
      "30/30 [==============================] - 1s 25ms/step - loss: 0.4841 - accuracy: 0.8785 - val_loss: 0.4797 - val_accuracy: 0.8752\n",
      "Epoch 17/20\n",
      "30/30 [==============================] - 1s 24ms/step - loss: 0.4751 - accuracy: 0.8809 - val_loss: 0.5193 - val_accuracy: 0.8541\n",
      "Epoch 18/20\n",
      "30/30 [==============================] - 1s 29ms/step - loss: 0.4712 - accuracy: 0.8867 - val_loss: 0.4731 - val_accuracy: 0.8782\n",
      "Epoch 19/20\n",
      "30/30 [==============================] - 1s 26ms/step - loss: 0.4667 - accuracy: 0.8898 - val_loss: 0.5298 - val_accuracy: 0.8454\n",
      "Epoch 20/20\n",
      "30/30 [==============================] - 1s 24ms/step - loss: 0.4679 - accuracy: 0.8859 - val_loss: 0.5019 - val_accuracy: 0.8599\n"
     ]
    }
   ],
   "source": [
    "history = model2.fit(partial_x_train, partial_y_train, epochs=20, batch_size=512, validation_data=(x_val, y_val))"
   ]
  },
  {
   "cell_type": "code",
   "execution_count": null,
   "id": "b69e6270",
   "metadata": {},
   "outputs": [],
   "source": [
    "results= model2.evaluate(x_test, y_test)\n",
    "results"
   ]
  },
  {
   "cell_type": "code",
   "execution_count": 32,
   "id": "bd2bd60f",
   "metadata": {},
   "outputs": [],
   "source": [
    "model3 = models.Sequential()\n",
    "model3.add(layers.Dense(16, kernel_regularizer = regularizers.l2(0.005), activation = 'relu', input_shape = (10000,)))\n",
    "model3.add(layers.Dense(16, activation = 'relu'))\n",
    "model3.add(layers.Dropout(0.3))\n",
    "model3.add(layers.Dense(1, activation = 'sigmoid'))\n",
    "model3.compile(optimizer ='rmsprop', loss='binary_crossentropy', metrics = ['accuracy'])"
   ]
  },
  {
   "cell_type": "code",
   "execution_count": 35,
   "id": "8e0858c7",
   "metadata": {},
   "outputs": [
    {
     "name": "stdout",
     "output_type": "stream",
     "text": [
      "Epoch 1/6\n",
      "30/30 [==============================] - 1s 16ms/step - loss: 0.2708 - accuracy: 0.9286\n",
      "Epoch 2/6\n",
      "30/30 [==============================] - 0s 16ms/step - loss: 0.2716 - accuracy: 0.9295\n",
      "Epoch 3/6\n",
      "30/30 [==============================] - 0s 14ms/step - loss: 0.2604 - accuracy: 0.9316\n",
      "Epoch 4/6\n",
      "30/30 [==============================] - 1s 20ms/step - loss: 0.2659 - accuracy: 0.9303\n",
      "Epoch 5/6\n",
      "30/30 [==============================] - 1s 17ms/step - loss: 0.2585 - accuracy: 0.9329\n",
      "Epoch 6/6\n",
      "30/30 [==============================] - 1s 18ms/step - loss: 0.2575 - accuracy: 0.9360\n"
     ]
    },
    {
     "data": {
      "text/plain": [
       "<keras.callbacks.History at 0x218de36e5f0>"
      ]
     },
     "execution_count": 35,
     "metadata": {},
     "output_type": "execute_result"
    }
   ],
   "source": [
    "model3.fit(partial_x_train, partial_y_train, epochs=6, batch_size=512)"
   ]
  },
  {
   "cell_type": "code",
   "execution_count": 36,
   "id": "03192914",
   "metadata": {},
   "outputs": [
    {
     "name": "stdout",
     "output_type": "stream",
     "text": [
      "782/782 [==============================] - 2s 3ms/step - loss: 0.3871 - accuracy: 0.8711\n"
     ]
    },
    {
     "data": {
      "text/plain": [
       "[0.38706687092781067, 0.8711199760437012]"
      ]
     },
     "execution_count": 36,
     "metadata": {},
     "output_type": "execute_result"
    }
   ],
   "source": [
    "results= model3.evaluate(x_test, y_test)\n",
    "results"
   ]
  },
  {
   "cell_type": "code",
   "execution_count": null,
   "id": "955553c9",
   "metadata": {},
   "outputs": [],
   "source": []
  }
 ],
 "metadata": {
  "kernelspec": {
   "display_name": "Python 3 (ipykernel)",
   "language": "python",
   "name": "python3"
  },
  "language_info": {
   "codemirror_mode": {
    "name": "ipython",
    "version": 3
   },
   "file_extension": ".py",
   "mimetype": "text/x-python",
   "name": "python",
   "nbconvert_exporter": "python",
   "pygments_lexer": "ipython3",
   "version": "3.10.9"
  }
 },
 "nbformat": 4,
 "nbformat_minor": 5
}
