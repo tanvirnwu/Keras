{
 "cells": [
  {
   "cell_type": "code",
   "execution_count": 6,
   "id": "ba29c41d",
   "metadata": {},
   "outputs": [],
   "source": [
    "import tensorflow as tf"
   ]
  },
  {
   "cell_type": "code",
   "execution_count": 7,
   "id": "363e4ea8",
   "metadata": {},
   "outputs": [
    {
     "name": "stdout",
     "output_type": "stream",
     "text": [
      "Your TensorFlow Version: 2.12.0\n"
     ]
    }
   ],
   "source": [
    "print(('Your TensorFlow Version: {0}').format(tf.__version__))"
   ]
  },
  {
   "cell_type": "code",
   "execution_count": null,
   "id": "087c75d4",
   "metadata": {},
   "outputs": [],
   "source": [
    "#Create a variable tensor V\n",
    "V = tf.Variable([[3,1],\n",
    "                 [5,2]])\n",
    "print(V)"
   ]
  },
  {
   "cell_type": "code",
   "execution_count": 8,
   "id": "9226f5ba",
   "metadata": {},
   "outputs": [
    {
     "name": "stdout",
     "output_type": "stream",
     "text": [
      "[[1 2 7 8]\n",
      " [3 4 4 5]]\n"
     ]
    }
   ],
   "source": [
    "import tensorflow as tf\n",
    "\n",
    "# Create the first constant tensor A\n",
    "A = tf.constant([[1, 2], [3, 4]])\n",
    "\n",
    "# Create the second constant tensor B\n",
    "B = tf.constant([[7, 8], [4, 5]])\n",
    "\n",
    "# Concatenate the tensors along the specified axis (axis=1 in this case)\n",
    "AB = tf.concat(values=[A, B], axis=1)\n",
    "\n",
    "# Print the concatenated tensor values\n",
    "print(AB.numpy())\n"
   ]
  },
  {
   "cell_type": "code",
   "execution_count": 10,
   "id": "2dc7effa",
   "metadata": {},
   "outputs": [
    {
     "data": {
      "text/plain": [
       "<tf.Tensor: shape=(3, 4), dtype=int32, numpy=\n",
       "array([[0, 0, 0, 0],\n",
       "       [0, 0, 0, 0],\n",
       "       [0, 0, 0, 0]])>"
      ]
     },
     "execution_count": 10,
     "metadata": {},
     "output_type": "execute_result"
    }
   ],
   "source": [
    "tensor = tf.zeros (shape = [3,4], dtype=tf.int32)\n",
    "tensor"
   ]
  },
  {
   "cell_type": "code",
   "execution_count": 11,
   "id": "44acf568",
   "metadata": {},
   "outputs": [
    {
     "data": {
      "text/plain": [
       "<tf.Tensor: shape=(3, 4), dtype=float32, numpy=\n",
       "array([[0., 0., 0., 0.],\n",
       "       [0., 0., 0., 0.],\n",
       "       [0., 0., 0., 0.]], dtype=float32)>"
      ]
     },
     "execution_count": 11,
     "metadata": {},
     "output_type": "execute_result"
    }
   ],
   "source": [
    "tensor = tf.zeros (shape = [3,4], dtype=tf.float32)\n",
    "tensor"
   ]
  },
  {
   "cell_type": "code",
   "execution_count": 12,
   "id": "f42d9b3e",
   "metadata": {},
   "outputs": [
    {
     "data": {
      "text/plain": [
       "<tf.Tensor: shape=(3, 4), dtype=float32, numpy=\n",
       "array([[1., 1., 1., 1.],\n",
       "       [1., 1., 1., 1.],\n",
       "       [1., 1., 1., 1.]], dtype=float32)>"
      ]
     },
     "execution_count": 12,
     "metadata": {},
     "output_type": "execute_result"
    }
   ],
   "source": [
    "tensor = tf.ones (shape = [3,4], dtype=tf.float32)\n",
    "tensor"
   ]
  },
  {
   "cell_type": "code",
   "execution_count": 13,
   "id": "b486feac",
   "metadata": {},
   "outputs": [
    {
     "data": {
      "text/plain": [
       "<tf.Tensor: shape=(3, 4), dtype=int32, numpy=\n",
       "array([[1, 1, 1, 1],\n",
       "       [1, 1, 1, 1],\n",
       "       [1, 1, 1, 1]])>"
      ]
     },
     "execution_count": 13,
     "metadata": {},
     "output_type": "execute_result"
    }
   ],
   "source": [
    "tensor = tf.ones (shape = [3,4], dtype=tf.int32)\n",
    "tensor"
   ]
  },
  {
   "cell_type": "code",
   "execution_count": 15,
   "id": "82cc518c",
   "metadata": {},
   "outputs": [
    {
     "data": {
      "text/plain": [
       "<tf.Tensor: shape=(4, 3), dtype=int32, numpy=\n",
       "array([[1, 1, 1],\n",
       "       [1, 1, 1],\n",
       "       [1, 1, 1],\n",
       "       [1, 1, 1]])>"
      ]
     },
     "execution_count": 15,
     "metadata": {},
     "output_type": "execute_result"
    }
   ],
   "source": [
    "reshaped_tensor = tf.reshape(tensor = tensor, shape = [4,3])\n",
    "reshaped_tensor"
   ]
  },
  {
   "cell_type": "code",
   "execution_count": 17,
   "id": "2f92ce29",
   "metadata": {},
   "outputs": [
    {
     "data": {
      "text/plain": [
       "<tf.Tensor: shape=(3, 4), dtype=float32, numpy=\n",
       "array([[0.5051116 , 0.74632716, 0.59649336, 0.12865353],\n",
       "       [0.16348207, 0.32885623, 0.81697214, 0.7847177 ],\n",
       "       [0.2846552 , 0.85058534, 0.06352842, 0.18349874]], dtype=float32)>"
      ]
     },
     "execution_count": 17,
     "metadata": {},
     "output_type": "execute_result"
    }
   ],
   "source": [
    "tesnor2 = tf.random.uniform(shape=[3,4], dtype= tf.float32)\n",
    "tesnor2"
   ]
  },
  {
   "cell_type": "code",
   "execution_count": 18,
   "id": "c681dcb3",
   "metadata": {},
   "outputs": [
    {
     "data": {
      "text/plain": [
       "<tf.Tensor: shape=(4, 3), dtype=float32, numpy=\n",
       "array([[0.5051116 , 0.74632716, 0.59649336],\n",
       "       [0.12865353, 0.16348207, 0.32885623],\n",
       "       [0.81697214, 0.7847177 , 0.2846552 ],\n",
       "       [0.85058534, 0.06352842, 0.18349874]], dtype=float32)>"
      ]
     },
     "execution_count": 18,
     "metadata": {},
     "output_type": "execute_result"
    }
   ],
   "source": [
    "reshaped_tensor = tf.reshape(tensor = tesnor2, shape = [4,3])\n",
    "reshaped_tensor"
   ]
  },
  {
   "cell_type": "code",
   "execution_count": 20,
   "id": "d3bc47e7",
   "metadata": {},
   "outputs": [
    {
     "name": "stdout",
     "output_type": "stream",
     "text": [
      "tf.Tensor(\n",
      "[[4.6 4.2]\n",
      " [7.5 3.6]\n",
      " [6.7 8.3]], shape=(3, 2), dtype=float32)\n",
      "tf.Tensor(\n",
      "[[4 4]\n",
      " [7 3]\n",
      " [6 8]], shape=(3, 2), dtype=int32)\n"
     ]
    }
   ],
   "source": [
    "# Typecasting a Tensor\n",
    "tensor3 = tf.constant([[4.6,4.2],\n",
    "                       [7.5,3.6],\n",
    "                       [6.7,8.3]], dtype=tf.float32)\n",
    "\n",
    "tensor_as_int = tf.cast(tensor3, tf.int32)\n",
    "\n",
    "print(tensor3)\n",
    "print(tensor_as_int)"
   ]
  },
  {
   "cell_type": "code",
   "execution_count": 23,
   "id": "5ed0486c",
   "metadata": {},
   "outputs": [
    {
     "data": {
      "text/plain": [
       "<tf.Tensor: shape=(2, 3), dtype=int32, numpy=\n",
       "array([[4, 7, 6],\n",
       "       [4, 3, 8]])>"
      ]
     },
     "execution_count": 23,
     "metadata": {},
     "output_type": "execute_result"
    }
   ],
   "source": [
    "# Tranforming a Tensor\n",
    "a = tf.transpose(tensor_as_int)\n",
    "a"
   ]
  },
  {
   "cell_type": "code",
   "execution_count": 25,
   "id": "09d98825",
   "metadata": {},
   "outputs": [
    {
     "data": {
      "text/plain": [
       "<tf.Tensor: shape=(2, 1), dtype=int32, numpy=\n",
       "array([[36],\n",
       "       [30]])>"
      ]
     },
     "execution_count": 25,
     "metadata": {},
     "output_type": "execute_result"
    }
   ],
   "source": [
    "# Matrix multiplication of Tensor\n",
    "\n",
    "C = tf.constant([[5, 8], [3, 9]])\n",
    "D = tf.constant([[4], [2]])\n",
    "\n",
    "CD = tf.matmul(C, D)\n",
    "CD"
   ]
  },
  {
   "cell_type": "code",
   "execution_count": 27,
   "id": "953bcf92",
   "metadata": {},
   "outputs": [
    {
     "data": {
      "text/plain": [
       "<tf.Tensor: shape=(2, 2), dtype=int32, numpy=\n",
       "array([[20, 32],\n",
       "       [ 6, 18]])>"
      ]
     },
     "execution_count": 27,
     "metadata": {},
     "output_type": "execute_result"
    }
   ],
   "source": [
    "# Elementwise multiplication\n",
    "CD = tf.multiply(C, D)\n",
    "CD"
   ]
  },
  {
   "cell_type": "code",
   "execution_count": 28,
   "id": "6c661c2d",
   "metadata": {},
   "outputs": [],
   "source": [
    "# Identity Matrix\n",
    "\n",
    "E = tf.constant([[4, 9], [5, 6], [1, 8]])\n",
    "\n",
    "rows, columns = E.shape"
   ]
  },
  {
   "cell_type": "code",
   "execution_count": 29,
   "id": "0139ba36",
   "metadata": {},
   "outputs": [
    {
     "data": {
      "text/plain": [
       "3"
      ]
     },
     "execution_count": 29,
     "metadata": {},
     "output_type": "execute_result"
    }
   ],
   "source": [
    "rows"
   ]
  },
  {
   "cell_type": "code",
   "execution_count": 30,
   "id": "2ca2a18b",
   "metadata": {},
   "outputs": [
    {
     "data": {
      "text/plain": [
       "2"
      ]
     },
     "execution_count": 30,
     "metadata": {},
     "output_type": "execute_result"
    }
   ],
   "source": [
    "columns"
   ]
  },
  {
   "cell_type": "code",
   "execution_count": 32,
   "id": "55029d1d",
   "metadata": {},
   "outputs": [
    {
     "data": {
      "text/plain": [
       "<tf.Tensor: shape=(3, 2), dtype=int32, numpy=\n",
       "array([[1, 0],\n",
       "       [0, 1],\n",
       "       [0, 0]])>"
      ]
     },
     "execution_count": 32,
     "metadata": {},
     "output_type": "execute_result"
    }
   ],
   "source": [
    "# Crating an Identity Matrix\n",
    "\n",
    "E_identity = tf.eye(num_rows= rows, num_columns = columns, dtype=tf.int32)\n",
    "E_identity"
   ]
  },
  {
   "cell_type": "code",
   "execution_count": null,
   "id": "803ae9e8",
   "metadata": {},
   "outputs": [],
   "source": []
  }
 ],
 "metadata": {
  "kernelspec": {
   "display_name": "Python 3 (ipykernel)",
   "language": "python",
   "name": "python3"
  },
  "language_info": {
   "codemirror_mode": {
    "name": "ipython",
    "version": 3
   },
   "file_extension": ".py",
   "mimetype": "text/x-python",
   "name": "python",
   "nbconvert_exporter": "python",
   "pygments_lexer": "ipython3",
   "version": "3.10.9"
  }
 },
 "nbformat": 4,
 "nbformat_minor": 5
}
